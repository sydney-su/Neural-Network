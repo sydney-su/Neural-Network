{
 "cells": [
  {
   "cell_type": "code",
   "execution_count": 1,
   "id": "a5767323-ed01-4f43-a1f0-2581e23781b3",
   "metadata": {},
   "outputs": [],
   "source": [
    "import numpy as np # linear algebra, matrix operations\n",
    "import pandas as pd # to read data\n",
    "import matplotlib.pyplot as plt # plotting, showing images"
   ]
  },
  {
   "cell_type": "code",
   "execution_count": 2,
   "id": "a1e41787-f249-45b1-93a4-7e34bd6dc9c1",
   "metadata": {},
   "outputs": [],
   "source": [
    "from keras.datasets import mnist"
   ]
  },
  {
   "cell_type": "code",
   "execution_count": 3,
   "id": "2aaf113f-fde6-46bd-bb89-681bac012439",
   "metadata": {},
   "outputs": [
    {
     "name": "stdout",
     "output_type": "stream",
     "text": [
      "(60000, 28, 28) (60000,) (10000, 28, 28) (10000,)\n"
     ]
    }
   ],
   "source": [
    "(X_train, Y_train), (X_test, Y_test) = mnist.load_data() # import data\n",
    "print(X_train.shape, Y_train.shape, X_test.shape, Y_test.shape)"
   ]
  },
  {
   "cell_type": "code",
   "execution_count": 4,
   "id": "2cd1047b-59e4-4f93-aebf-adec73e6911d",
   "metadata": {},
   "outputs": [
    {
     "name": "stdout",
     "output_type": "stream",
     "text": [
      "(60000, 784) (60000, 1) (10000, 784) (10000, 1)\n"
     ]
    }
   ],
   "source": [
    "X_train = X_train.flatten().reshape(X_train.shape[0], X_train.shape[1] * X_train.shape[2]) # convert to 2D\n",
    "X_test = X_test.flatten().reshape(X_test.shape[0], X_test.shape[1] * X_test.shape[2]) # convert to 2D\n",
    "Y_train = Y_train.reshape(Y_train.shape[0], 1) # convert to 2D\n",
    "Y_test = Y_test.reshape(Y_test.shape[0], 1)# convert to 2D\n",
    "print(X_train.shape, Y_train.shape, X_test.shape, Y_test.shape)"
   ]
  },
  {
   "cell_type": "code",
   "execution_count": 5,
   "id": "0423197b-9217-405a-bf62-eb62c9ff9f68",
   "metadata": {},
   "outputs": [
    {
     "name": "stdout",
     "output_type": "stream",
     "text": [
      "(60000, 785) (10000, 785)\n"
     ]
    }
   ],
   "source": [
    "X_train = np.hstack((Y_train, X_train)) # stack data horizontally\n",
    "X_test = np.hstack((Y_test, X_test))  # stack data horizontally\n",
    "print(X_train.shape, X_test.shape)"
   ]
  },
  {
   "cell_type": "code",
   "execution_count": 6,
   "id": "b35849b0-0fd8-4b29-af7c-bdba71becbde",
   "metadata": {},
   "outputs": [],
   "source": [
    "m, n = X_train.shape # n,m inverted because we will transpose\n",
    "np.random.shuffle(X_train) # shuffle for randomness\n",
    "\n",
    "dev_data = X_train[0:5000].T # dev data used for hyperparam tuning\n",
    "Y_dev = dev_data[0]\n",
    "X_dev = dev_data[1:n]\n",
    "X_dev = X_dev / 255.0\n",
    "\n",
    "train_data = X_train[5000:].T\n",
    "Y_train = train_data[0]\n",
    "X_train = train_data[1:n]\n",
    "X_train = X_train / 255.0\n",
    "\n",
    "n_train, m_train = X_train.shape"
   ]
  },
  {
   "cell_type": "code",
   "execution_count": 7,
   "id": "05da6b78-96b9-44eb-ab8e-521f339d587c",
   "metadata": {},
   "outputs": [],
   "source": [
    "def init_params():\n",
    "    W1 = np.random.rand(10, 784) - 0.5\n",
    "    b1 = np.random.rand(10, 1) - 0.5\n",
    "    W2 = np.random.rand(10, 10) - 0.5\n",
    "    b2 = np.random.rand(10, 1) - 0.5\n",
    "    return W1, b1, W2, b2\n",
    "\n",
    "def ReLU(Z):\n",
    "    return np.maximum(Z, 0)\n",
    "\n",
    "def softmax(Z):\n",
    "    A = np.exp(Z) / sum(np.exp(Z))\n",
    "    return A\n",
    "    \n",
    "def forward_prop(W1, b1, W2, b2, X):\n",
    "    Z1 = W1.dot(X) + b1\n",
    "    A1 = ReLU(Z1)\n",
    "    Z2 = W2.dot(A1) + b2\n",
    "    A2 = softmax(Z2)\n",
    "    return Z1, A1, Z2, A2\n",
    "\n",
    "def ReLU_deriv(Z):\n",
    "    return Z > 0\n",
    "\n",
    "def one_hot(Y):\n",
    "    one_hot_Y = np.zeros((Y.size, Y.max() + 1))\n",
    "    one_hot_Y[np.arange(Y.size), Y] = 1\n",
    "    one_hot_Y = one_hot_Y.T\n",
    "    return one_hot_Y\n",
    "\n",
    "def backward_prop(Z1, A1, Z2, A2, W1, W2, X, Y):\n",
    "    one_hot_Y = one_hot(Y)\n",
    "    dZ2 = A2 - one_hot_Y\n",
    "    dW2 = 1 / m * dZ2.dot(A1.T)\n",
    "    db2 = 1 / m * np.sum(dZ2)\n",
    "    dZ1 = W2.T.dot(dZ2) * ReLU_deriv(Z1)\n",
    "    dW1 = 1 / m * dZ1.dot(X.T)\n",
    "    db1 = 1 / m * np.sum(dZ1)\n",
    "    return dW1, db1, dW2, db2\n",
    "\n",
    "def update_params(W1, b1, W2, b2, dW1, db1, dW2, db2, alpha):\n",
    "    W1 = W1 - alpha * dW1\n",
    "    b1 = b1 - alpha * db1    \n",
    "    W2 = W2 - alpha * dW2  \n",
    "    b2 = b2 - alpha * db2    \n",
    "    return W1, b1, W2, b2"
   ]
  },
  {
   "cell_type": "code",
   "execution_count": 8,
   "id": "9acf4ca6-1eaa-434f-9bac-fe7f23277520",
   "metadata": {},
   "outputs": [],
   "source": [
    "def get_predictions(A2):\n",
    "    return np.argmax(A2, 0)\n",
    "\n",
    "def get_accuracy(predictions, Y):\n",
    "    print(predictions, Y)\n",
    "    return np.sum(predictions == Y) / Y.size\n",
    "\n",
    "def gradient_descent(X, Y, alpha, iterations):\n",
    "    W1, b1, W2, b2 = init_params()\n",
    "    for i in range(iterations):\n",
    "        Z1, A1, Z2, A2 = forward_prop(W1, b1, W2, b2, X)\n",
    "        dW1, db1, dW2, db2 = backward_prop(Z1, A1, Z2, A2, W1, W2, X, Y)\n",
    "        W1, b1, W2, b2 = update_params(W1, b1, W2, b2, dW1, db1, dW2, db2, alpha)\n",
    "        if i % 10 == 0:\n",
    "            print(\"Iteration: \", i)\n",
    "            predictions = get_predictions(A2)\n",
    "            print(get_accuracy(predictions, Y))\n",
    "    return W1, b1, W2, b2"
   ]
  },
  {
   "cell_type": "code",
   "execution_count": 10,
   "id": "6a7117af-6cad-41b5-857d-2fc2ac528d73",
   "metadata": {},
   "outputs": [
    {
     "name": "stdout",
     "output_type": "stream",
     "text": [
      "Iteration:  0\n",
      "[0 0 0 ... 3 5 5] [6 5 7 ... 9 0 2]\n",
      "0.09989090909090909\n",
      "Iteration:  10\n",
      "[0 0 0 ... 3 5 3] [6 5 7 ... 9 0 2]\n",
      "0.17103636363636363\n",
      "Iteration:  20\n",
      "[0 0 0 ... 3 5 8] [6 5 7 ... 9 0 2]\n",
      "0.24354545454545454\n",
      "Iteration:  30\n",
      "[0 0 0 ... 3 5 7] [6 5 7 ... 9 0 2]\n",
      "0.31616363636363637\n",
      "Iteration:  40\n",
      "[0 0 0 ... 3 5 7] [6 5 7 ... 9 0 2]\n",
      "0.38127272727272726\n",
      "Iteration:  50\n",
      "[0 0 7 ... 3 5 7] [6 5 7 ... 9 0 2]\n",
      "0.4339636363636364\n",
      "Iteration:  60\n",
      "[0 0 7 ... 3 5 7] [6 5 7 ... 9 0 2]\n",
      "0.48165454545454545\n",
      "Iteration:  70\n",
      "[0 0 7 ... 3 5 7] [6 5 7 ... 9 0 2]\n",
      "0.5237090909090909\n",
      "Iteration:  80\n",
      "[0 0 7 ... 3 5 8] [6 5 7 ... 9 0 2]\n",
      "0.5606727272727273\n",
      "Iteration:  90\n",
      "[0 0 7 ... 3 2 2] [6 5 7 ... 9 0 2]\n",
      "0.5942\n",
      "Iteration:  100\n",
      "[2 0 7 ... 3 2 2] [6 5 7 ... 9 0 2]\n",
      "0.6237272727272727\n",
      "Iteration:  110\n",
      "[2 0 7 ... 3 2 2] [6 5 7 ... 9 0 2]\n",
      "0.6478\n",
      "Iteration:  120\n",
      "[2 0 7 ... 9 2 2] [6 5 7 ... 9 0 2]\n",
      "0.6693818181818182\n",
      "Iteration:  130\n",
      "[2 0 7 ... 9 2 2] [6 5 7 ... 9 0 2]\n",
      "0.6877272727272727\n",
      "Iteration:  140\n",
      "[2 0 7 ... 9 2 2] [6 5 7 ... 9 0 2]\n",
      "0.7038\n",
      "Iteration:  150\n",
      "[2 0 7 ... 9 2 2] [6 5 7 ... 9 0 2]\n",
      "0.718\n",
      "Iteration:  160\n",
      "[2 0 7 ... 9 2 2] [6 5 7 ... 9 0 2]\n",
      "0.7296727272727273\n",
      "Iteration:  170\n",
      "[2 0 7 ... 9 2 2] [6 5 7 ... 9 0 2]\n",
      "0.7407636363636364\n",
      "Iteration:  180\n",
      "[2 0 7 ... 9 2 2] [6 5 7 ... 9 0 2]\n",
      "0.7495818181818181\n",
      "Iteration:  190\n",
      "[2 0 7 ... 9 2 2] [6 5 7 ... 9 0 2]\n",
      "0.7569818181818182\n",
      "Iteration:  200\n",
      "[2 0 7 ... 9 2 2] [6 5 7 ... 9 0 2]\n",
      "0.7653272727272727\n",
      "Iteration:  210\n",
      "[2 0 7 ... 9 2 2] [6 5 7 ... 9 0 2]\n",
      "0.7715454545454545\n",
      "Iteration:  220\n",
      "[2 0 7 ... 9 2 2] [6 5 7 ... 9 0 2]\n",
      "0.7773272727272728\n",
      "Iteration:  230\n",
      "[2 0 7 ... 9 2 2] [6 5 7 ... 9 0 2]\n",
      "0.7827090909090909\n",
      "Iteration:  240\n",
      "[2 0 7 ... 9 2 2] [6 5 7 ... 9 0 2]\n",
      "0.7875636363636364\n",
      "Iteration:  250\n",
      "[2 0 7 ... 9 2 2] [6 5 7 ... 9 0 2]\n",
      "0.7917454545454545\n",
      "Iteration:  260\n",
      "[2 0 7 ... 9 2 2] [6 5 7 ... 9 0 2]\n",
      "0.7964909090909091\n",
      "Iteration:  270\n",
      "[6 0 7 ... 9 2 2] [6 5 7 ... 9 0 2]\n",
      "0.8005272727272728\n",
      "Iteration:  280\n",
      "[6 0 7 ... 9 2 2] [6 5 7 ... 9 0 2]\n",
      "0.8042363636363636\n",
      "Iteration:  290\n",
      "[6 0 7 ... 9 2 2] [6 5 7 ... 9 0 2]\n",
      "0.8076727272727273\n",
      "Iteration:  300\n",
      "[6 0 7 ... 9 2 2] [6 5 7 ... 9 0 2]\n",
      "0.8105454545454546\n",
      "Iteration:  310\n",
      "[6 0 7 ... 9 2 2] [6 5 7 ... 9 0 2]\n",
      "0.8132909090909091\n",
      "Iteration:  320\n",
      "[6 0 7 ... 9 2 2] [6 5 7 ... 9 0 2]\n",
      "0.8162545454545455\n",
      "Iteration:  330\n",
      "[6 0 7 ... 9 2 2] [6 5 7 ... 9 0 2]\n",
      "0.8190181818181819\n",
      "Iteration:  340\n",
      "[6 0 7 ... 9 2 2] [6 5 7 ... 9 0 2]\n",
      "0.8218\n",
      "Iteration:  350\n",
      "[6 0 7 ... 9 2 2] [6 5 7 ... 9 0 2]\n",
      "0.824\n",
      "Iteration:  360\n",
      "[6 0 7 ... 9 2 2] [6 5 7 ... 9 0 2]\n",
      "0.8261272727272727\n",
      "Iteration:  370\n",
      "[6 0 7 ... 9 2 2] [6 5 7 ... 9 0 2]\n",
      "0.8285090909090909\n",
      "Iteration:  380\n",
      "[6 0 7 ... 9 2 2] [6 5 7 ... 9 0 2]\n",
      "0.8302727272727273\n",
      "Iteration:  390\n",
      "[6 0 7 ... 9 2 2] [6 5 7 ... 9 0 2]\n",
      "0.8315818181818182\n",
      "Iteration:  400\n",
      "[6 0 7 ... 9 2 2] [6 5 7 ... 9 0 2]\n",
      "0.8335636363636364\n",
      "Iteration:  410\n",
      "[6 0 7 ... 9 2 2] [6 5 7 ... 9 0 2]\n",
      "0.8351272727272727\n",
      "Iteration:  420\n",
      "[6 0 7 ... 9 2 2] [6 5 7 ... 9 0 2]\n",
      "0.8368909090909091\n",
      "Iteration:  430\n",
      "[6 0 7 ... 9 2 2] [6 5 7 ... 9 0 2]\n",
      "0.8386\n",
      "Iteration:  440\n",
      "[6 0 7 ... 9 2 2] [6 5 7 ... 9 0 2]\n",
      "0.8402727272727273\n",
      "Iteration:  450\n",
      "[6 0 7 ... 9 2 2] [6 5 7 ... 9 0 2]\n",
      "0.8416\n",
      "Iteration:  460\n",
      "[6 0 7 ... 9 2 2] [6 5 7 ... 9 0 2]\n",
      "0.8431272727272727\n",
      "Iteration:  470\n",
      "[6 0 7 ... 9 2 2] [6 5 7 ... 9 0 2]\n",
      "0.8442545454545455\n",
      "Iteration:  480\n",
      "[6 0 7 ... 9 8 2] [6 5 7 ... 9 0 2]\n",
      "0.8454\n",
      "Iteration:  490\n",
      "[6 0 7 ... 9 8 2] [6 5 7 ... 9 0 2]\n",
      "0.8463454545454545\n"
     ]
    }
   ],
   "source": [
    "W1, b1, W2, b2 = gradient_descent(X_train, Y_train, 0.10, 500)"
   ]
  },
  {
   "cell_type": "code",
   "execution_count": 11,
   "id": "55a0495d-72b6-40cb-a3cd-6443b76bb0d4",
   "metadata": {},
   "outputs": [],
   "source": [
    "def make_predictions(X, W1, b1, W2, b2):\n",
    "    _, _, _, A2 = forward_prop(W1, b1, W2, b2, X)\n",
    "    predictions = get_predictions(A2)\n",
    "    return predictions\n",
    "\n",
    "def test_prediction(index, W1, b1, W2, b2):\n",
    "    current_image = X_train[:, index, None]\n",
    "    prediction = make_predictions(X_train[:, index, None], W1, b1, W2, b2)\n",
    "    label = Y_train[index]\n",
    "    print(\"Prediction: \", prediction)\n",
    "    print(\"Label: \", label)\n",
    "    \n",
    "    current_image = current_image.reshape((28, 28)) * 255\n",
    "    plt.gray()\n",
    "    plt.imshow(current_image, interpolation='nearest')\n",
    "    plt.show()"
   ]
  },
  {
   "cell_type": "code",
   "execution_count": 12,
   "id": "6516385e-f210-49f1-ab5a-002c7a557e45",
   "metadata": {},
   "outputs": [
    {
     "name": "stdout",
     "output_type": "stream",
     "text": [
      "Prediction:  [6]\n",
      "Label:  6\n"
     ]
    },
    {
     "data": {
      "image/png": "[encoded data removed]",
      "text/plain": [
       "<Figure size 640x480 with 1 Axes>"
      ]
     },
     "metadata": {},
     "output_type": "display_data"
    },
    {
     "name": "stdout",
     "output_type": "stream",
     "text": [
      "Prediction:  [0]\n",
      "Label:  5\n"
     ]
    },
    {
     "data": {
      "image/png": "[encoded data removed]",
      "text/plain": [
       "<Figure size 640x480 with 1 Axes>"
      ]
     },
     "metadata": {},
     "output_type": "display_data"
    },
    {
     "name": "stdout",
     "output_type": "stream",
     "text": [
      "Prediction:  [7]\n",
      "Label:  7\n"
     ]
    },
    {
     "data": {
      "image/png": "[encoded data removed]",
      "text/plain": [
       "<Figure size 640x480 with 1 Axes>"
      ]
     },
     "metadata": {},
     "output_type": "display_data"
    },
    {
     "name": "stdout",
     "output_type": "stream",
     "text": [
      "Prediction:  [8]\n",
      "Label:  8\n"
     ]
    },
    {
     "data": {
      "image/png": "[encoded data removed]",
      "text/plain": [
       "<Figure size 640x480 with 1 Axes>"
      ]
     },
     "metadata": {},
     "output_type": "display_data"
    }
   ],
   "source": [
    "test_prediction(0, W1, b1, W2, b2)\n",
    "test_prediction(1, W1, b1, W2, b2)\n",
    "test_prediction(2, W1, b1, W2, b2)\n",
    "test_prediction(3, W1, b1, W2, b2)"
   ]
  },
  {
   "cell_type": "code",
   "execution_count": null,
   "id": "e7aceddf-f0af-495f-87ef-e3536af35d05",
   "metadata": {},
   "outputs": [],
   "source": [
    "dev_predictions = make_predictions(X_dev, W1, b1, W2, b2)\n",
    "get_accuracy(dev_predictions, Y_dev)"
   ]
  }
 ],
 "metadata": {
  "kernelspec": {
   "display_name": "Python 3 (ipykernel)",
   "language": "python",
   "name": "python3"
  },
  "language_info": {
   "codemirror_mode": {
    "name": "ipython",
    "version": 3
   },
   "file_extension": ".py",
   "mimetype": "text/x-python",
   "name": "python",
   "nbconvert_exporter": "python",
   "pygments_lexer": "ipython3",
   "version": "3.11.7"
  }
 },
 "nbformat": 4,
 "nbformat_minor": 5
}
